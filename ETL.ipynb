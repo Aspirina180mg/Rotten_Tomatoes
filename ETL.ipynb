{
 "cells": [
  {
   "cell_type": "markdown",
   "metadata": {},
   "source": [
    "# Imports"
   ]
  },
  {
   "cell_type": "code",
   "execution_count": 1,
   "metadata": {},
   "outputs": [],
   "source": [
    "import os\n",
    "import pandas as pd"
   ]
  },
  {
   "cell_type": "markdown",
   "metadata": {},
   "source": [
    "# Extracción"
   ]
  },
  {
   "cell_type": "code",
   "execution_count": 2,
   "metadata": {},
   "outputs": [
    {
     "data": {
      "text/html": [
       "<div>\n",
       "<style scoped>\n",
       "    .dataframe tbody tr th:only-of-type {\n",
       "        vertical-align: middle;\n",
       "    }\n",
       "\n",
       "    .dataframe tbody tr th {\n",
       "        vertical-align: top;\n",
       "    }\n",
       "\n",
       "    .dataframe thead th {\n",
       "        text-align: right;\n",
       "    }\n",
       "</style>\n",
       "<table border=\"1\" class=\"dataframe\">\n",
       "  <thead>\n",
       "    <tr style=\"text-align: right;\">\n",
       "      <th></th>\n",
       "      <th>reviewId</th>\n",
       "      <th>creationDate</th>\n",
       "      <th>criticName</th>\n",
       "      <th>criticPageUrl</th>\n",
       "      <th>reviewState</th>\n",
       "      <th>isFresh</th>\n",
       "      <th>isRotten</th>\n",
       "      <th>isRtUrl</th>\n",
       "      <th>isTopCritic</th>\n",
       "      <th>publicationUrl</th>\n",
       "      <th>publicationName</th>\n",
       "      <th>reviewUrl</th>\n",
       "      <th>quote</th>\n",
       "      <th>scoreSentiment</th>\n",
       "      <th>originalScore</th>\n",
       "      <th>movieId</th>\n",
       "    </tr>\n",
       "  </thead>\n",
       "  <tbody>\n",
       "    <tr>\n",
       "      <th>0</th>\n",
       "      <td>1912176</td>\n",
       "      <td>1966-07-30</td>\n",
       "      <td>Jennie Kermode</td>\n",
       "      <td>/critics/jennie-kermode</td>\n",
       "      <td>fresh</td>\n",
       "      <td>True</td>\n",
       "      <td>False</td>\n",
       "      <td>False</td>\n",
       "      <td>False</td>\n",
       "      <td>/critics/source/1869</td>\n",
       "      <td>Eye for Film</td>\n",
       "      <td>http://www.eyeforfilm.co.uk/reviews.php?id=7898</td>\n",
       "      <td>NaN</td>\n",
       "      <td>POSITIVE</td>\n",
       "      <td>4/5</td>\n",
       "      <td>7602d2ab-c9bc-3439-9cd6-d3a06e81728e</td>\n",
       "    </tr>\n",
       "  </tbody>\n",
       "</table>\n",
       "</div>"
      ],
      "text/plain": [
       "   reviewId creationDate      criticName            criticPageUrl reviewState  \\\n",
       "0   1912176   1966-07-30  Jennie Kermode  /critics/jennie-kermode       fresh   \n",
       "\n",
       "   isFresh  isRotten isRtUrl  isTopCritic        publicationUrl  \\\n",
       "0     True     False   False        False  /critics/source/1869   \n",
       "\n",
       "  publicationName                                        reviewUrl quote  \\\n",
       "0    Eye for Film  http://www.eyeforfilm.co.uk/reviews.php?id=7898   NaN   \n",
       "\n",
       "  scoreSentiment originalScore                               movieId  \n",
       "0       POSITIVE           4/5  7602d2ab-c9bc-3439-9cd6-d3a06e81728e  "
      ]
     },
     "execution_count": 2,
     "metadata": {},
     "output_type": "execute_result"
    }
   ],
   "source": [
    "# Critic Reviews\n",
    "\n",
    "df_critic_reviews = pd.read_csv(\"Datasets/critic_reviews.csv/critic_reviews.csv\")\n",
    "df_critic_reviews.head(1)"
   ]
  },
  {
   "cell_type": "code",
   "execution_count": 3,
   "metadata": {},
   "outputs": [
    {
     "data": {
      "text/html": [
       "<div>\n",
       "<style scoped>\n",
       "    .dataframe tbody tr th:only-of-type {\n",
       "        vertical-align: middle;\n",
       "    }\n",
       "\n",
       "    .dataframe tbody tr th {\n",
       "        vertical-align: top;\n",
       "    }\n",
       "\n",
       "    .dataframe thead th {\n",
       "        text-align: right;\n",
       "    }\n",
       "</style>\n",
       "<table border=\"1\" class=\"dataframe\">\n",
       "  <thead>\n",
       "    <tr style=\"text-align: right;\">\n",
       "      <th></th>\n",
       "      <th>movieId</th>\n",
       "      <th>movieTitle</th>\n",
       "      <th>movieYear</th>\n",
       "      <th>movieURL</th>\n",
       "      <th>movieRank</th>\n",
       "      <th>critic_score</th>\n",
       "      <th>audience_score</th>\n",
       "    </tr>\n",
       "  </thead>\n",
       "  <tbody>\n",
       "    <tr>\n",
       "      <th>0</th>\n",
       "      <td>4517f650-c60a-4edc-b37e-9236213c2b93</td>\n",
       "      <td>Spider-Man: Into the Spider-Verse</td>\n",
       "      <td>2018</td>\n",
       "      <td>https://www.rottentomatoes.com/m/spider_man_in...</td>\n",
       "      <td>1</td>\n",
       "      <td>97%</td>\n",
       "      <td>94%</td>\n",
       "    </tr>\n",
       "  </tbody>\n",
       "</table>\n",
       "</div>"
      ],
      "text/plain": [
       "                                movieId                         movieTitle  \\\n",
       "0  4517f650-c60a-4edc-b37e-9236213c2b93  Spider-Man: Into the Spider-Verse   \n",
       "\n",
       "   movieYear                                           movieURL  movieRank  \\\n",
       "0       2018  https://www.rottentomatoes.com/m/spider_man_in...          1   \n",
       "\n",
       "  critic_score audience_score  \n",
       "0          97%            94%  "
      ]
     },
     "execution_count": 3,
     "metadata": {},
     "output_type": "execute_result"
    }
   ],
   "source": [
    "# Movies\n",
    "\n",
    "df_movies = pd.read_csv(\"Datasets/movies.csv/movies.csv\")\n",
    "df_movies.head(1)"
   ]
  },
  {
   "cell_type": "code",
   "execution_count": 4,
   "metadata": {},
   "outputs": [
    {
     "data": {
      "text/html": [
       "<div>\n",
       "<style scoped>\n",
       "    .dataframe tbody tr th:only-of-type {\n",
       "        vertical-align: middle;\n",
       "    }\n",
       "\n",
       "    .dataframe tbody tr th {\n",
       "        vertical-align: top;\n",
       "    }\n",
       "\n",
       "    .dataframe thead th {\n",
       "        text-align: right;\n",
       "    }\n",
       "</style>\n",
       "<table border=\"1\" class=\"dataframe\">\n",
       "  <thead>\n",
       "    <tr style=\"text-align: right;\">\n",
       "      <th></th>\n",
       "      <th>movieId</th>\n",
       "      <th>rating</th>\n",
       "      <th>quote</th>\n",
       "      <th>reviewId</th>\n",
       "      <th>isVerified</th>\n",
       "      <th>isSuperReviewer</th>\n",
       "      <th>hasSpoilers</th>\n",
       "      <th>hasProfanity</th>\n",
       "      <th>score</th>\n",
       "      <th>creationDate</th>\n",
       "      <th>userDisplayName</th>\n",
       "      <th>userRealm</th>\n",
       "      <th>userId</th>\n",
       "    </tr>\n",
       "  </thead>\n",
       "  <tbody>\n",
       "    <tr>\n",
       "      <th>0</th>\n",
       "      <td>13905397-4673-3e05-954d-8840645bebc2</td>\n",
       "      <td>1.0</td>\n",
       "      <td>Did.Not.Like.\\n\\nThis movie was boring, overse...</td>\n",
       "      <td>NaN</td>\n",
       "      <td>False</td>\n",
       "      <td>False</td>\n",
       "      <td>False</td>\n",
       "      <td>False</td>\n",
       "      <td>1.0</td>\n",
       "      <td>2001-03-07</td>\n",
       "      <td>NaN</td>\n",
       "      <td>RT</td>\n",
       "      <td>901245019</td>\n",
       "    </tr>\n",
       "  </tbody>\n",
       "</table>\n",
       "</div>"
      ],
      "text/plain": [
       "                                movieId  rating  \\\n",
       "0  13905397-4673-3e05-954d-8840645bebc2     1.0   \n",
       "\n",
       "                                               quote reviewId  isVerified  \\\n",
       "0  Did.Not.Like.\\n\\nThis movie was boring, overse...      NaN       False   \n",
       "\n",
       "   isSuperReviewer  hasSpoilers  hasProfanity  score creationDate  \\\n",
       "0            False        False         False    1.0   2001-03-07   \n",
       "\n",
       "  userDisplayName userRealm     userId  \n",
       "0             NaN        RT  901245019  "
      ]
     },
     "execution_count": 4,
     "metadata": {},
     "output_type": "execute_result"
    }
   ],
   "source": [
    "# User Reviews\n",
    "\n",
    "df_user_reviews = pd.read_csv(\"Datasets/user_reviews.csv/user_reviews.csv\")\n",
    "df_user_reviews.head(1)"
   ]
  }
 ],
 "metadata": {
  "kernelspec": {
   "display_name": "Python 3",
   "language": "python",
   "name": "python3"
  },
  "language_info": {
   "codemirror_mode": {
    "name": "ipython",
    "version": 3
   },
   "file_extension": ".py",
   "mimetype": "text/x-python",
   "name": "python",
   "nbconvert_exporter": "python",
   "pygments_lexer": "ipython3",
   "version": "3.11.9"
  }
 },
 "nbformat": 4,
 "nbformat_minor": 2
}
