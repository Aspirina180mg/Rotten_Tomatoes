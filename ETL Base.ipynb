{
 "cells": [
  {
   "cell_type": "markdown",
   "metadata": {},
   "source": [
    "Un proceso ETL (Extract, Transform, Load) es fundamental para mover datos de una fuente a otra mientras se asegura que estén limpios, transformados y listos para su uso. Aquí tienes un paso a paso general de cómo puedes llevar a cabo un ETL utilizando Python y Pandas:\n",
    "\n",
    "Paso 1: Extracción (Extract)\n",
    "Importar las bibliotecas necesarias\n",
    "\n",
    "Paso 2: Transformación (Transform)\n",
    "Limpiar los datos\n",
    "Eliminar duplicados\n",
    "Manejar datos faltantes\n",
    "Convertir tipos de datos\n",
    "Crear nuevas columnas si es necesario\n",
    "Agrupar y agregar\n",
    "\n",
    "Paso 3: Carga (Load)\n",
    "Guardar los datos transformados en el destino"
   ]
  },
  {
   "cell_type": "markdown",
   "metadata": {},
   "source": [
    "# Imports"
   ]
  },
  {
   "cell_type": "code",
   "execution_count": 26,
   "metadata": {},
   "outputs": [],
   "source": [
    "import pandas as pd"
   ]
  },
  {
   "cell_type": "markdown",
   "metadata": {},
   "source": [
    "# Extracción"
   ]
  },
  {
   "cell_type": "code",
   "execution_count": 27,
   "metadata": {},
   "outputs": [],
   "source": [
    "df_movies = pd.read_csv(\"Datasets/movies.csv/movies.csv\")\n",
    "df_reviews_critic = pd.read_csv(\"Datasets/critic_reviews.csv/critic_reviews.csv\")\n",
    "df_reviews_user = pd.read_csv(\"Datasets/user_reviews.csv/user_reviews.csv\")"
   ]
  },
  {
   "cell_type": "markdown",
   "metadata": {},
   "source": [
    "# Transformación"
   ]
  },
  {
   "cell_type": "markdown",
   "metadata": {},
   "source": [
    "## Limpieza de datos"
   ]
  },
  {
   "cell_type": "code",
   "execution_count": 28,
   "metadata": {},
   "outputs": [],
   "source": [
    "df_movies = pd.read_csv(\"Datasets/movies.csv/movies.csv\")\n"
   ]
  },
  {
   "cell_type": "markdown",
   "metadata": {},
   "source": [
    "EL cliente solicitó sólo trabjar con el 20% de las películas con el mejor ranking (promedio entre usuarios y críticos)"
   ]
  },
  {
   "cell_type": "code",
   "execution_count": 29,
   "metadata": {},
   "outputs": [],
   "source": [
    "df_movies = df_movies.sort_values(by='movieRank')\n",
    "df_movies = df_movies.head(int(len(df_movies) * 0.2))"
   ]
  },
  {
   "cell_type": "markdown",
   "metadata": {},
   "source": [
    "Al haberse modificado el universo de películas con las que trabajaremos, se hará eliminación de reviews no necesarias, tanto de críticos, como de usuarios."
   ]
  },
  {
   "cell_type": "code",
   "execution_count": 30,
   "metadata": {},
   "outputs": [],
   "source": [
    "df_reviews_critic = df_reviews_critic[~df_reviews_critic['movieId'].isin(df_movies['movieId'])]\n",
    "df_reviews_user = df_reviews_user[~df_reviews_user['movieId'].isin(df_movies['movieId'])]"
   ]
  },
  {
   "cell_type": "markdown",
   "metadata": {},
   "source": [
    "## Eliminación de duplicados"
   ]
  },
  {
   "cell_type": "code",
   "execution_count": 31,
   "metadata": {},
   "outputs": [
    {
     "name": "stdout",
     "output_type": "stream",
     "text": [
      "<class 'pandas.core.frame.DataFrame'>\n",
      "RangeIndex: 20 entries, 0 to 19\n",
      "Data columns (total 7 columns):\n",
      " #   Column          Non-Null Count  Dtype \n",
      "---  ------          --------------  ----- \n",
      " 0   movieId         20 non-null     object\n",
      " 1   movieTitle      20 non-null     object\n",
      " 2   movieYear       20 non-null     int64 \n",
      " 3   movieURL        20 non-null     object\n",
      " 4   movieRank       20 non-null     int64 \n",
      " 5   critic_score    20 non-null     object\n",
      " 6   audience_score  20 non-null     object\n",
      "dtypes: int64(2), object(5)\n",
      "memory usage: 1.2+ KB\n"
     ]
    }
   ],
   "source": [
    "df_movies.info()"
   ]
  },
  {
   "cell_type": "code",
   "execution_count": 32,
   "metadata": {},
   "outputs": [
    {
     "name": "stdout",
     "output_type": "stream",
     "text": [
      "<class 'pandas.core.frame.DataFrame'>\n",
      "Index: 20358 entries, 0 to 27141\n",
      "Data columns (total 16 columns):\n",
      " #   Column           Non-Null Count  Dtype \n",
      "---  ------           --------------  ----- \n",
      " 0   reviewId         20358 non-null  int64 \n",
      " 1   creationDate     20358 non-null  object\n",
      " 2   criticName       20286 non-null  object\n",
      " 3   criticPageUrl    20286 non-null  object\n",
      " 4   reviewState      20358 non-null  object\n",
      " 5   isFresh          20358 non-null  bool  \n",
      " 6   isRotten         20358 non-null  bool  \n",
      " 7   isRtUrl          19848 non-null  object\n",
      " 8   isTopCritic      20358 non-null  bool  \n",
      " 9   publicationUrl   20358 non-null  object\n",
      " 10  publicationName  20358 non-null  object\n",
      " 11  reviewUrl        18629 non-null  object\n",
      " 12  quote            20202 non-null  object\n",
      " 13  scoreSentiment   20358 non-null  object\n",
      " 14  originalScore    14695 non-null  object\n",
      " 15  movieId          20358 non-null  object\n",
      "dtypes: bool(3), int64(1), object(12)\n",
      "memory usage: 2.2+ MB\n"
     ]
    }
   ],
   "source": [
    "df_reviews_critic.info()"
   ]
  },
  {
   "cell_type": "code",
   "execution_count": 33,
   "metadata": {},
   "outputs": [
    {
     "name": "stdout",
     "output_type": "stream",
     "text": [
      "<class 'pandas.core.frame.DataFrame'>\n",
      "Index: 1544222 entries, 0 to 2224582\n",
      "Data columns (total 13 columns):\n",
      " #   Column           Non-Null Count    Dtype  \n",
      "---  ------           --------------    -----  \n",
      " 0   movieId          1544222 non-null  object \n",
      " 1   rating           1544222 non-null  float64\n",
      " 2   quote            1544222 non-null  object \n",
      " 3   reviewId         647365 non-null   object \n",
      " 4   isVerified       1544222 non-null  bool   \n",
      " 5   isSuperReviewer  1544222 non-null  bool   \n",
      " 6   hasSpoilers      1544222 non-null  bool   \n",
      " 7   hasProfanity     1544222 non-null  bool   \n",
      " 8   score            1544222 non-null  float64\n",
      " 9   creationDate     1544222 non-null  object \n",
      " 10  userDisplayName  118350 non-null   object \n",
      " 11  userRealm        1544222 non-null  object \n",
      " 12  userId           1544222 non-null  object \n",
      "dtypes: bool(4), float64(2), object(7)\n",
      "memory usage: 123.7+ MB\n"
     ]
    }
   ],
   "source": [
    "df_reviews_user.info()"
   ]
  },
  {
   "cell_type": "code",
   "execution_count": 34,
   "metadata": {},
   "outputs": [],
   "source": [
    "df_movies = df_movies.drop_duplicates()\n",
    "df_reviews_critic = df_reviews_critic.drop_duplicates()\n",
    "df_reviews_user = df_reviews_user.drop_duplicates()"
   ]
  },
  {
   "cell_type": "code",
   "execution_count": 35,
   "metadata": {},
   "outputs": [
    {
     "name": "stdout",
     "output_type": "stream",
     "text": [
      "<class 'pandas.core.frame.DataFrame'>\n",
      "RangeIndex: 20 entries, 0 to 19\n",
      "Data columns (total 7 columns):\n",
      " #   Column          Non-Null Count  Dtype \n",
      "---  ------          --------------  ----- \n",
      " 0   movieId         20 non-null     object\n",
      " 1   movieTitle      20 non-null     object\n",
      " 2   movieYear       20 non-null     int64 \n",
      " 3   movieURL        20 non-null     object\n",
      " 4   movieRank       20 non-null     int64 \n",
      " 5   critic_score    20 non-null     object\n",
      " 6   audience_score  20 non-null     object\n",
      "dtypes: int64(2), object(5)\n",
      "memory usage: 1.2+ KB\n"
     ]
    }
   ],
   "source": [
    "df_movies.info()"
   ]
  },
  {
   "cell_type": "code",
   "execution_count": 36,
   "metadata": {},
   "outputs": [
    {
     "name": "stdout",
     "output_type": "stream",
     "text": [
      "<class 'pandas.core.frame.DataFrame'>\n",
      "Index: 20358 entries, 0 to 27141\n",
      "Data columns (total 16 columns):\n",
      " #   Column           Non-Null Count  Dtype \n",
      "---  ------           --------------  ----- \n",
      " 0   reviewId         20358 non-null  int64 \n",
      " 1   creationDate     20358 non-null  object\n",
      " 2   criticName       20286 non-null  object\n",
      " 3   criticPageUrl    20286 non-null  object\n",
      " 4   reviewState      20358 non-null  object\n",
      " 5   isFresh          20358 non-null  bool  \n",
      " 6   isRotten         20358 non-null  bool  \n",
      " 7   isRtUrl          19848 non-null  object\n",
      " 8   isTopCritic      20358 non-null  bool  \n",
      " 9   publicationUrl   20358 non-null  object\n",
      " 10  publicationName  20358 non-null  object\n",
      " 11  reviewUrl        18629 non-null  object\n",
      " 12  quote            20202 non-null  object\n",
      " 13  scoreSentiment   20358 non-null  object\n",
      " 14  originalScore    14695 non-null  object\n",
      " 15  movieId          20358 non-null  object\n",
      "dtypes: bool(3), int64(1), object(12)\n",
      "memory usage: 2.2+ MB\n"
     ]
    }
   ],
   "source": [
    "df_reviews_critic.info()"
   ]
  },
  {
   "cell_type": "code",
   "execution_count": 37,
   "metadata": {},
   "outputs": [
    {
     "name": "stdout",
     "output_type": "stream",
     "text": [
      "<class 'pandas.core.frame.DataFrame'>\n",
      "Index: 1544222 entries, 0 to 2224582\n",
      "Data columns (total 13 columns):\n",
      " #   Column           Non-Null Count    Dtype  \n",
      "---  ------           --------------    -----  \n",
      " 0   movieId          1544222 non-null  object \n",
      " 1   rating           1544222 non-null  float64\n",
      " 2   quote            1544222 non-null  object \n",
      " 3   reviewId         647365 non-null   object \n",
      " 4   isVerified       1544222 non-null  bool   \n",
      " 5   isSuperReviewer  1544222 non-null  bool   \n",
      " 6   hasSpoilers      1544222 non-null  bool   \n",
      " 7   hasProfanity     1544222 non-null  bool   \n",
      " 8   score            1544222 non-null  float64\n",
      " 9   creationDate     1544222 non-null  object \n",
      " 10  userDisplayName  118350 non-null   object \n",
      " 11  userRealm        1544222 non-null  object \n",
      " 12  userId           1544222 non-null  object \n",
      "dtypes: bool(4), float64(2), object(7)\n",
      "memory usage: 123.7+ MB\n"
     ]
    }
   ],
   "source": [
    "df_reviews_user.info()"
   ]
  },
  {
   "cell_type": "markdown",
   "metadata": {},
   "source": [
    "Durante el proceso de eliminación de duplicados, no se eliminó nada de los dataframes."
   ]
  },
  {
   "cell_type": "markdown",
   "metadata": {},
   "source": [
    "## Manejo de datos faltantes"
   ]
  },
  {
   "cell_type": "code",
   "execution_count": 43,
   "metadata": {},
   "outputs": [
    {
     "name": "stdout",
     "output_type": "stream",
     "text": [
      "<class 'pandas.core.frame.DataFrame'>\n",
      "RangeIndex: 20 entries, 0 to 19\n",
      "Data columns (total 7 columns):\n",
      " #   Column          Non-Null Count  Dtype \n",
      "---  ------          --------------  ----- \n",
      " 0   movieId         20 non-null     object\n",
      " 1   movieTitle      20 non-null     object\n",
      " 2   movieYear       20 non-null     int64 \n",
      " 3   movieURL        20 non-null     object\n",
      " 4   movieRank       20 non-null     int64 \n",
      " 5   critic_score    20 non-null     object\n",
      " 6   audience_score  20 non-null     object\n",
      "dtypes: int64(2), object(5)\n",
      "memory usage: 1.2+ KB\n"
     ]
    }
   ],
   "source": [
    "df_movies.info()"
   ]
  },
  {
   "cell_type": "code",
   "execution_count": 44,
   "metadata": {},
   "outputs": [
    {
     "name": "stdout",
     "output_type": "stream",
     "text": [
      "<class 'pandas.core.frame.DataFrame'>\n",
      "Index: 20358 entries, 0 to 27141\n",
      "Data columns (total 16 columns):\n",
      " #   Column           Non-Null Count  Dtype \n",
      "---  ------           --------------  ----- \n",
      " 0   reviewId         20358 non-null  int64 \n",
      " 1   creationDate     20358 non-null  object\n",
      " 2   criticName       20286 non-null  object\n",
      " 3   criticPageUrl    20286 non-null  object\n",
      " 4   reviewState      20358 non-null  object\n",
      " 5   isFresh          20358 non-null  bool  \n",
      " 6   isRotten         20358 non-null  bool  \n",
      " 7   isRtUrl          19848 non-null  object\n",
      " 8   isTopCritic      20358 non-null  bool  \n",
      " 9   publicationUrl   20358 non-null  object\n",
      " 10  publicationName  20358 non-null  object\n",
      " 11  reviewUrl        18629 non-null  object\n",
      " 12  quote            20202 non-null  object\n",
      " 13  scoreSentiment   20358 non-null  object\n",
      " 14  originalScore    14695 non-null  object\n",
      " 15  movieId          20358 non-null  object\n",
      "dtypes: bool(3), int64(1), object(12)\n",
      "memory usage: 2.2+ MB\n"
     ]
    }
   ],
   "source": [
    "df_reviews_critic.info()"
   ]
  },
  {
   "cell_type": "code",
   "execution_count": 46,
   "metadata": {},
   "outputs": [
    {
     "name": "stdout",
     "output_type": "stream",
     "text": [
      "<class 'pandas.core.frame.DataFrame'>\n",
      "Index: 1544222 entries, 0 to 2224582\n",
      "Data columns (total 13 columns):\n",
      " #   Column           Non-Null Count    Dtype  \n",
      "---  ------           --------------    -----  \n",
      " 0   movieId          1544222 non-null  object \n",
      " 1   rating           1544222 non-null  float64\n",
      " 2   quote            1544222 non-null  object \n",
      " 3   reviewId         647365 non-null   object \n",
      " 4   isVerified       1544222 non-null  bool   \n",
      " 5   isSuperReviewer  1544222 non-null  bool   \n",
      " 6   hasSpoilers      1544222 non-null  bool   \n",
      " 7   hasProfanity     1544222 non-null  bool   \n",
      " 8   score            1544222 non-null  float64\n",
      " 9   creationDate     1544222 non-null  object \n",
      " 10  userDisplayName  118350 non-null   object \n",
      " 11  userRealm        1544222 non-null  object \n",
      " 12  userId           1544222 non-null  object \n",
      "dtypes: bool(4), float64(2), object(7)\n",
      "memory usage: 123.7+ MB\n"
     ]
    }
   ],
   "source": [
    "df_reviews_user.info()"
   ]
  },
  {
   "cell_type": "markdown",
   "metadata": {},
   "source": [
    "Manejar datos faltantes\n",
    "Convertir tipos de datos\n",
    "Crear nuevas columnas si es necesario\n",
    "Agrupar y agregar\n",
    "\n",
    "Paso 3: Carga (Load)\n",
    "Guardar los datos transformados en el destino\n"
   ]
  },
  {
   "cell_type": "code",
   "execution_count": 39,
   "metadata": {},
   "outputs": [
    {
     "name": "stdout",
     "output_type": "stream",
     "text": [
      "<class 'pandas.core.frame.DataFrame'>\n",
      "Index: 1544222 entries, 0 to 2224582\n",
      "Data columns (total 13 columns):\n",
      " #   Column           Non-Null Count    Dtype  \n",
      "---  ------           --------------    -----  \n",
      " 0   movieId          1544222 non-null  object \n",
      " 1   rating           1544222 non-null  float64\n",
      " 2   quote            1544222 non-null  object \n",
      " 3   reviewId         647365 non-null   object \n",
      " 4   isVerified       1544222 non-null  bool   \n",
      " 5   isSuperReviewer  1544222 non-null  bool   \n",
      " 6   hasSpoilers      1544222 non-null  bool   \n",
      " 7   hasProfanity     1544222 non-null  bool   \n",
      " 8   score            1544222 non-null  float64\n",
      " 9   creationDate     1544222 non-null  object \n",
      " 10  userDisplayName  118350 non-null   object \n",
      " 11  userRealm        1544222 non-null  object \n",
      " 12  userId           1544222 non-null  object \n",
      "dtypes: bool(4), float64(2), object(7)\n",
      "memory usage: 123.7+ MB\n"
     ]
    }
   ],
   "source": [
    "df_reviews_user.info()"
   ]
  },
  {
   "cell_type": "code",
   "execution_count": 40,
   "metadata": {},
   "outputs": [],
   "source": [
    "movie_id_en_reviews = df_reviews_user[\"movieId\"].nunique()"
   ]
  },
  {
   "cell_type": "code",
   "execution_count": 41,
   "metadata": {},
   "outputs": [],
   "source": [
    "movie_id_en_reviews = df_reviews_user[\"movieId\"].count()"
   ]
  },
  {
   "cell_type": "code",
   "execution_count": 42,
   "metadata": {},
   "outputs": [
    {
     "name": "stdout",
     "output_type": "stream",
     "text": [
      "1544222\n"
     ]
    }
   ],
   "source": [
    "print(movie_id_en_reviews)"
   ]
  },
  {
   "cell_type": "code",
   "execution_count": null,
   "metadata": {},
   "outputs": [],
   "source": []
  }
 ],
 "metadata": {
  "kernelspec": {
   "display_name": "Python 3",
   "language": "python",
   "name": "python3"
  },
  "language_info": {
   "codemirror_mode": {
    "name": "ipython",
    "version": 3
   },
   "file_extension": ".py",
   "mimetype": "text/x-python",
   "name": "python",
   "nbconvert_exporter": "python",
   "pygments_lexer": "ipython3",
   "version": "3.11.9"
  }
 },
 "nbformat": 4,
 "nbformat_minor": 2
}
